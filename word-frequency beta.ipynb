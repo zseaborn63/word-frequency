{
 "cells": [
  {
   "cell_type": "code",
   "execution_count": 10,
   "metadata": {
    "collapsed": false
   },
   "outputs": [
    {
     "name": "stdout",
     "output_type": "stream",
     "text": [
      "the 3496\n",
      "of 1715\n",
      "and 1685\n",
      "to 1487\n",
      "i 1465\n"
     ]
    }
   ],
   "source": [
    "with open(\"sample.txt\") as infile:\n",
    "    book = infile.read()\n",
    "    \n",
    "import string\n",
    "    \n",
    "def remove_punctuation_and_lines(x):\n",
    "    x = x.lower()\n",
    "    for c in string.punctuation:\n",
    "        x = x.replace(c, \"\")\n",
    "    for c in string.whitespace:\n",
    "        x = x.replace(c, \" \")\n",
    "    return x\n",
    "\n",
    "def word_dictionary(x):\n",
    "    word_dict = {}\n",
    "    for word in x:\n",
    "        if word in word_dict.keys():\n",
    "            word_dict[word] += 1\n",
    "        else:\n",
    "            word_dict[word] = 1\n",
    "    return word_dict\n",
    "\n",
    "def word_list(dictionary):\n",
    "    word_list = list(dictionary.items())\n",
    "    return word_list\n",
    "\n",
    "def sort_list(a_list, how_many):\n",
    "    sorted_list = sorted(a_list, reverse = True, key= lambda x: x[1])[:how_many]\n",
    "    for word, appears in sorted_list:\n",
    "        print(\"{} {}\".format(word, appears))\n",
    "\n",
    "only_words = remove_punctuation_and_lines(book)\n",
    "listed_words = only_words.split()\n",
    "unsorted_mess = word_dictionary(listed_words)\n",
    "word_list = word_list(unsorted_mess)\n",
    "sort_list(word_list, 5)\n"
   ]
  },
  {
   "cell_type": "code",
   "execution_count": null,
   "metadata": {
    "collapsed": true
   },
   "outputs": [],
   "source": []
  }
 ],
 "metadata": {
  "kernelspec": {
   "display_name": "Python 3",
   "language": "python",
   "name": "python3"
  },
  "language_info": {
   "codemirror_mode": {
    "name": "ipython",
    "version": 3
   },
   "file_extension": ".py",
   "mimetype": "text/x-python",
   "name": "python",
   "nbconvert_exporter": "python",
   "pygments_lexer": "ipython3",
   "version": "3.5.0"
  }
 },
 "nbformat": 4,
 "nbformat_minor": 0
}
