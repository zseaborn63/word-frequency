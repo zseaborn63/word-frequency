{
 "cells": [
  {
   "cell_type": "code",
   "execution_count": 18,
   "metadata": {
    "collapsed": false
   },
   "outputs": [
    {
     "name": "stdout",
     "output_type": "stream",
     "text": [
      "the 3496\n",
      "of 1715\n",
      "and 1685\n",
      "to 1487\n",
      "i 1465\n",
      "a 1362\n",
      "that 1143\n",
      "it 985\n",
      "in 964\n",
      "he 914\n",
      "you 894\n",
      "was 803\n",
      "his 690\n",
      "is 649\n",
      "have 547\n",
      "had 505\n",
      "with 487\n",
      "my 477\n",
      "we 462\n",
      "for 445\n"
     ]
    }
   ],
   "source": [
    "with open(\"sample.txt\") as infile:\n",
    "    book = infile.read()\n",
    "    \n",
    "import string\n",
    "    \n",
    "def remove_punctuation_and_lines(file):\n",
    "    file = file.lower()\n",
    "    for c in string.punctuation:\n",
    "        file = file.replace(c, \"\")\n",
    "    for c in string.whitespace:\n",
    "        file = file.replace(c, \" \")\n",
    "    return file\n",
    "\n",
    "def word_dictionary(words):\n",
    "    word_dict = {}\n",
    "    for word in words:\n",
    "        if word in word_dict.keys():\n",
    "            word_dict[word] += 1\n",
    "        else:\n",
    "            word_dict[word] = 1\n",
    "    return word_dict\n",
    "\n",
    "def word_list(dictionary):\n",
    "    word_list = list(dictionary.items())\n",
    "    return word_list\n",
    "\n",
    "def sort_list(a_list, how_many):\n",
    "    sorted_list = sorted(a_list, reverse = True, key= lambda x: x[1])[:how_many]\n",
    "    for word, appears in sorted_list:\n",
    "        print(\"{} {}\".format(word, appears))\n",
    "\n",
    "only_words = remove_punctuation_and_lines(book)\n",
    "listed_words = only_words.split()\n",
    "unsorted_mess = word_dictionary(listed_words)\n",
    "word_list = word_list(unsorted_mess)\n",
    "sort_list(word_list, 20)\n"
   ]
  },
  {
   "cell_type": "code",
   "execution_count": 25,
   "metadata": {
    "collapsed": false
   },
   "outputs": [
    {
     "name": "stdout",
     "output_type": "stream",
     "text": [
      "a 1362\n",
      "it 985\n",
      "for 445\n",
      "not 393\n",
      "sir 347\n",
      "upon 315\n",
      "one 240\n",
      "man 199\n",
      "would 193\n",
      "very 191\n",
      "holmes 184\n",
      "out 168\n",
      "moor 155\n",
      "henry 143\n",
      "more 138\n",
      "up 125\n",
      "know 117\n",
      "now 117\n",
      "over 115\n",
      "see 115\n"
     ]
    }
   ],
   "source": [
    "with open(\"sample.txt\") as infile:\n",
    "    book = infile.read()\n",
    "    \n",
    "import string\n",
    "    \n",
    "def remove_punctuation_and_lines(file):\n",
    "    file = file.lower()\n",
    "    for c in string.punctuation:\n",
    "        file = file.replace(c, \"\")\n",
    "    for c in string.whitespace:\n",
    "        file = file.replace(c, \" \")\n",
    "    return file\n",
    "\n",
    "def word_dictionary(words):\n",
    "    word_dict = {}\n",
    "    for word in words:\n",
    "        if word in word_dict.keys():\n",
    "            word_dict[word] += 1\n",
    "        else:\n",
    "            word_dict[word] = 1\n",
    "    return word_dict\n",
    "\n",
    "def word_list(dictionary):\n",
    "    bad_words = \"\"\"\"\"a,able,about,across,after,all,almost,also,am,among,an,and,any,are,as,at,be,\n",
    "because,been,but,by,can,cannot,could,dear,did,do,does,either,else,ever,every,\n",
    "for,from,get,got,had,has,have,he,her,hers,him,his,how,however,i,if,in,into,is,\n",
    "it,its,just,least,let,like,likely,may,me,might,most,must,my,neither,no,nor,\n",
    "not,of,off,often,on,only,or,other,our,own,rather,said,say,says,she,should,\n",
    "since,so,some,than,that,the,their,them,then,there,these,they,this,tis,to,too,\n",
    "twas,us,wants,was,we,were,what,when,where,which,while,who,whom,why,will,with,\n",
    "would,yet,you,your\"\"\"\"\"\n",
    "    bad_words = bad_words.split(',')\n",
    "    word_list = list(dictionary.items())\n",
    "    final_word_list = []\n",
    "    for i in word_list:\n",
    "        if i[0] not in bad_words:\n",
    "            final_word_list.append(i)\n",
    "    return final_word_list\n",
    "\n",
    "def sort_list(a_list, how_many):\n",
    "    sorted_list = sorted(a_list, reverse = True, key= lambda x: x[1])[:how_many]\n",
    "    for word, appears in sorted_list:\n",
    "        print(\"{} {}\".format(word, appears))\n",
    "\n",
    "only_words = remove_punctuation_and_lines(book)\n",
    "listed_words = only_words.split()\n",
    "unsorted_mess = word_dictionary(listed_words)\n",
    "word_list = word_list(unsorted_mess)\n",
    "sort_list(word_list, 20)\n",
    "\n"
   ]
  },
  {
   "cell_type": "code",
   "execution_count": 19,
   "metadata": {
    "collapsed": false
   },
   "outputs": [
    {
     "ename": "NameError",
     "evalue": "name 'word_frequency_test' is not defined",
     "output_type": "error",
     "traceback": [
      "\u001b[0;31m---------------------------------------------------------------------------\u001b[0m",
      "\u001b[0;31mNameError\u001b[0m                                 Traceback (most recent call last)",
      "\u001b[0;32m<ipython-input-19-867ec114ff6f>\u001b[0m in \u001b[0;36m<module>\u001b[0;34m()\u001b[0m\n\u001b[0;32m----> 1\u001b[0;31m \u001b[0mword_frequency_test\u001b[0m\u001b[0;34m.\u001b[0m\u001b[0mpy\u001b[0m\u001b[0;34m\u001b[0m\u001b[0m\n\u001b[0m",
      "\u001b[0;31mNameError\u001b[0m: name 'word_frequency_test' is not defined"
     ]
    }
   ],
   "source": [
    "word_frequency_test.py "
   ]
  },
  {
   "cell_type": "code",
   "execution_count": 37,
   "metadata": {
    "collapsed": false
   },
   "outputs": [
    {
     "data": {
      "text/plain": [
       "{'a': 1362,\n",
       " 'and': 1685,\n",
       " 'for': 445,\n",
       " 'had': 505,\n",
       " 'have': 547,\n",
       " 'he': 914,\n",
       " 'his': 690,\n",
       " 'i': 1465,\n",
       " 'in': 964,\n",
       " 'is': 649,\n",
       " 'it': 985,\n",
       " 'my': 477,\n",
       " 'of': 1715,\n",
       " 'that': 1143,\n",
       " 'the': 3496,\n",
       " 'to': 1487,\n",
       " 'was': 803,\n",
       " 'we': 462,\n",
       " 'with': 487,\n",
       " 'you': 894}"
      ]
     },
     "execution_count": 37,
     "metadata": {},
     "output_type": "execute_result"
    }
   ],
   "source": [
    "with open(\"sample.txt\") as infile:\n",
    "    book = infile.read()\n",
    "    \n",
    "import string\n",
    "    \n",
    "def word_frequency(file):\n",
    "    file = file.lower()\n",
    "    for c in string.punctuation:\n",
    "        file = file.replace(c, \"\")\n",
    "    for c in string.whitespace:\n",
    "        file = file.replace(c, \" \")\n",
    "    word = file.split()\n",
    "    word_dict = {}\n",
    "    for word in word:\n",
    "        if word in word_dict.keys():\n",
    "            word_dict[word] += 1\n",
    "        else:\n",
    "            word_dict[word] = 1\n",
    "    return word_dict\n",
    "\n",
    "def word_list(dictionary):\n",
    "    word_list = list(dictionary.items())\n",
    "    return word_list\n",
    "\n",
    "def sort_list(a_list, how_many):\n",
    "    sorted_list = sorted(a_list, reverse = True, key= lambda x: x[1])[:how_many]\n",
    "    for word, appears in sorted_list:\n",
    "        return dict(sorted_list)\n",
    "\n",
    "unsorted_mess = word_frequency(book)\n",
    "word_list = word_list(unsorted_mess)\n",
    "sort_list(word_list, 20)\n",
    "\n"
   ]
  },
  {
   "cell_type": "code",
   "execution_count": null,
   "metadata": {
    "collapsed": true
   },
   "outputs": [],
   "source": []
  }
 ],
 "metadata": {
  "kernelspec": {
   "display_name": "Python 3",
   "language": "python",
   "name": "python3"
  },
  "language_info": {
   "codemirror_mode": {
    "name": "ipython",
    "version": 3
   },
   "file_extension": ".py",
   "mimetype": "text/x-python",
   "name": "python",
   "nbconvert_exporter": "python",
   "pygments_lexer": "ipython3",
   "version": "3.5.0"
  }
 },
 "nbformat": 4,
 "nbformat_minor": 0
}
